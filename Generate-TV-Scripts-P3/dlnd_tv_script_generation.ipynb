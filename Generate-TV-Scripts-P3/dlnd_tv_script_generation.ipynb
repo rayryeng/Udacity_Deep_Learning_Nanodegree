{
 "cells": [
  {
   "cell_type": "markdown",
   "metadata": {
    "colab_type": "text",
    "id": "98mFOX7XvMfR"
   },
   "source": [
    "# TV Script Generation\n",
    "\n",
    "In this project, you'll generate your own [Seinfeld](https://en.wikipedia.org/wiki/Seinfeld) TV scripts using RNNs.  You'll be using part of the [Seinfeld dataset](https://www.kaggle.com/thec03u5/seinfeld-chronicles#scripts.csv) of scripts from 9 seasons.  The Neural Network you'll build will generate a new ,\"fake\" TV script, based on patterns it recognizes in this training data.\n",
    "\n",
    "## Get the Data\n",
    "\n",
    "The data is already provided for you in `./data/Seinfeld_Scripts.txt` and you're encouraged to open that file and look at the text. \n",
    ">* As a first step, we'll load in this data and look at some samples. \n",
    "* Then, you'll be tasked with defining and training an RNN to generate a new script!"
   ]
  },
  {
   "cell_type": "code",
   "execution_count": 1,
   "metadata": {
    "colab": {
     "base_uri": "https://localhost:8080/",
     "height": 578
    },
    "colab_type": "code",
    "id": "drvIfv4hvU9u",
    "outputId": "ad7b00d9-3157-41eb-a961-dca8eae4d2d0"
   },
   "outputs": [
    {
     "name": "stdout",
     "output_type": "stream",
     "text": [
      "--2020-06-27 11:58:17--  https://raw.githubusercontent.com/udacity/deep-learning-v2-pytorch/master/project-tv-script-generation/helper.py\n",
      "Resolving raw.githubusercontent.com (raw.githubusercontent.com)... 151.101.0.133, 151.101.64.133, 151.101.128.133, ...\n",
      "Connecting to raw.githubusercontent.com (raw.githubusercontent.com)|151.101.0.133|:443... connected.\n",
      "HTTP request sent, awaiting response... 200 OK\n",
      "Length: 1407 (1.4K) [text/plain]\n",
      "Saving to: ‘helper.py’\n",
      "\n",
      "\r",
      "helper.py             0%[                    ]       0  --.-KB/s               \r",
      "helper.py           100%[===================>]   1.37K  --.-KB/s    in 0s      \n",
      "\n",
      "2020-06-27 11:58:17 (19.1 MB/s) - ‘helper.py’ saved [1407/1407]\n",
      "\n",
      "--2020-06-27 11:58:18--  https://raw.githubusercontent.com/udacity/deep-learning-v2-pytorch/master/project-tv-script-generation/problem_unittests.py\n",
      "Resolving raw.githubusercontent.com (raw.githubusercontent.com)... 151.101.0.133, 151.101.64.133, 151.101.128.133, ...\n",
      "Connecting to raw.githubusercontent.com (raw.githubusercontent.com)|151.101.0.133|:443... connected.\n",
      "HTTP request sent, awaiting response... 200 OK\n",
      "Length: 10060 (9.8K) [text/plain]\n",
      "Saving to: ‘problem_unittests.py’\n",
      "\n",
      "problem_unittests.p 100%[===================>]   9.82K  --.-KB/s    in 0s      \n",
      "\n",
      "2020-06-27 11:58:18 (83.2 MB/s) - ‘problem_unittests.py’ saved [10060/10060]\n",
      "\n",
      "--2020-06-27 11:58:27--  https://raw.githubusercontent.com/udacity/deep-learning-v2-pytorch/master/project-tv-script-generation/data/Seinfeld_Scripts.txt\n",
      "Resolving raw.githubusercontent.com (raw.githubusercontent.com)... 151.101.0.133, 151.101.64.133, 151.101.128.133, ...\n",
      "Connecting to raw.githubusercontent.com (raw.githubusercontent.com)|151.101.0.133|:443... connected.\n",
      "HTTP request sent, awaiting response... 200 OK\n",
      "Length: 3471475 (3.3M) [text/plain]\n",
      "Saving to: ‘Seinfeld_Scripts.txt’\n",
      "\n",
      "Seinfeld_Scripts.tx 100%[===================>]   3.31M  --.-KB/s    in 0.08s   \n",
      "\n",
      "2020-06-27 11:58:28 (39.4 MB/s) - ‘Seinfeld_Scripts.txt’ saved [3471475/3471475]\n",
      "\n"
     ]
    }
   ],
   "source": [
    "## Run this if in Colab\n",
    "!wget https://raw.githubusercontent.com/udacity/deep-learning-v2-pytorch/master/project-tv-script-generation/helper.py\n",
    "!wget https://raw.githubusercontent.com/udacity/deep-learning-v2-pytorch/master/project-tv-script-generation/problem_unittests.py\n",
    "!mkdir data\n",
    "!wget https://raw.githubusercontent.com/udacity/deep-learning-v2-pytorch/master/project-tv-script-generation/data/Seinfeld_Scripts.txt\n",
    "!mv Seinfeld_Scripts.txt data"
   ]
  },
  {
   "cell_type": "code",
   "execution_count": 2,
   "metadata": {
    "colab": {},
    "colab_type": "code",
    "id": "BtBtIB_EvMfR"
   },
   "outputs": [],
   "source": [
    "\"\"\"\n",
    "DON'T MODIFY ANYTHING IN THIS CELL\n",
    "\"\"\"\n",
    "# load in data\n",
    "import helper\n",
    "data_dir = './data/Seinfeld_Scripts.txt'\n",
    "text = helper.load_data(data_dir)"
   ]
  },
  {
   "cell_type": "markdown",
   "metadata": {
    "colab_type": "text",
    "id": "NXUUHSDTvMfU"
   },
   "source": [
    "## Explore the Data\n",
    "Play around with `view_line_range` to view different parts of the data. This will give you a sense of the data you'll be working with. You can see, for example, that it is all lowercase text, and each new line of dialogue is separated by a newline character `\\n`."
   ]
  },
  {
   "cell_type": "code",
   "execution_count": 3,
   "metadata": {
    "colab": {
     "base_uri": "https://localhost:8080/",
     "height": 309
    },
    "colab_type": "code",
    "id": "Bz1fNBlMvMfV",
    "outputId": "2f22548e-c7b5-48f3-e369-f0bb0fe6712b"
   },
   "outputs": [
    {
     "name": "stdout",
     "output_type": "stream",
     "text": [
      "Dataset Stats\n",
      "Roughly the number of unique words: 46367\n",
      "Number of lines: 109233\n",
      "Average number of words in each line: 5.544240293684143\n",
      "\n",
      "The lines 0 to 10:\n",
      "jerry: do you know what this is all about? do you know, why were here? to be out, this is out...and out is one of the single most enjoyable experiences of life. people...did you ever hear people talking about we should go out? this is what theyre talking about...this whole thing, were all out now, no one is home. not one person here is home, were all out! there are people trying to find us, they dont know where we are. (on an imaginary phone) did you ring?, i cant find him. where did he go? he didnt tell me where he was going. he must have gone out. you wanna go out you get ready, you pick out the clothes, right? you take the shower, you get all ready, get the cash, get your friends, the car, the spot, the reservation...then youre standing around, what do you do? you go we gotta be getting back. once youre out, you wanna get back! you wanna go to sleep, you wanna get up, you wanna go out again tomorrow, right? where ever you are in life, its my feeling, youve gotta go. \n",
      "\n",
      "jerry: (pointing at georges shirt) see, to me, that button is in the worst possible spot. the second button literally makes or breaks the shirt, look at it. its too high! its in no-mans-land. you look like you live with your mother. \n",
      "\n",
      "george: are you through? \n",
      "\n",
      "jerry: you do of course try on, when you buy? \n",
      "\n",
      "george: yes, it was purple, i liked it, i dont actually recall considering the buttons. \n",
      "\n"
     ]
    }
   ],
   "source": [
    "view_line_range = (0, 10)\n",
    " \n",
    "\"\"\"\n",
    "DON'T MODIFY ANYTHING IN THIS CELL THAT IS BELOW THIS LINE\n",
    "\"\"\"\n",
    "import numpy as np\n",
    " \n",
    "print('Dataset Stats')\n",
    "print('Roughly the number of unique words: {}'.format(len({word: None for word in text.split()})))\n",
    " \n",
    "lines = text.split('\\n')\n",
    "print('Number of lines: {}'.format(len(lines)))\n",
    "word_count_line = [len(line.split()) for line in lines]\n",
    "print('Average number of words in each line: {}'.format(np.average(word_count_line)))\n",
    " \n",
    "print()\n",
    "print('The lines {} to {}:'.format(*view_line_range))\n",
    "print('\\n'.join(text.split('\\n')[view_line_range[0]:view_line_range[1]]))"
   ]
  },
  {
   "cell_type": "markdown",
   "metadata": {
    "colab_type": "text",
    "id": "sXs8f3n0vMfY"
   },
   "source": [
    "---\n",
    "## Implement Pre-processing Functions\n",
    "The first thing to do to any dataset is pre-processing.  Implement the following pre-processing functions below:\n",
    "- Lookup Table\n",
    "- Tokenize Punctuation\n",
    "\n",
    "### Lookup Table\n",
    "To create a word embedding, you first need to transform the words to ids.  In this function, create two dictionaries:\n",
    "- Dictionary to go from the words to an id, we'll call `vocab_to_int`\n",
    "- Dictionary to go from the id to word, we'll call `int_to_vocab`\n",
    "\n",
    "Return these dictionaries in the following **tuple** `(vocab_to_int, int_to_vocab)`"
   ]
  },
  {
   "cell_type": "code",
   "execution_count": 4,
   "metadata": {
    "colab": {
     "base_uri": "https://localhost:8080/",
     "height": 34
    },
    "colab_type": "code",
    "id": "iILyIrmevMfY",
    "outputId": "23461b3c-f0d0-4afd-9c6f-61b57a4cf5ed"
   },
   "outputs": [
    {
     "name": "stdout",
     "output_type": "stream",
     "text": [
      "Tests Passed\n"
     ]
    }
   ],
   "source": [
    "import problem_unittests as tests\n",
    " \n",
    "def create_lookup_tables(text):\n",
    "    \"\"\"\n",
    "    Create lookup tables for vocabulary\n",
    "    :param text: The text of tv scripts split into words\n",
    "    :return: A tuple of dicts (vocab_to_int, int_to_vocab)\n",
    "    \"\"\"\n",
    "    # TODO: Implement Function\n",
    "    unique_words = list(set(text))\n",
    "    int_to_vocab = {i : v for i, v in enumerate(unique_words)}\n",
    "    vocab_to_int = {v : k for k, v in int_to_vocab.items()}\n",
    "    \n",
    "    # return tuple\n",
    "    return (vocab_to_int, int_to_vocab)\n",
    " \n",
    " \n",
    "\"\"\"\n",
    "DON'T MODIFY ANYTHING IN THIS CELL THAT IS BELOW THIS LINE\n",
    "\"\"\"\n",
    "tests.test_create_lookup_tables(create_lookup_tables)"
   ]
  },
  {
   "cell_type": "markdown",
   "metadata": {
    "colab_type": "text",
    "id": "yPajtmaEvMfb"
   },
   "source": [
    "### Tokenize Punctuation\n",
    "We'll be splitting the script into a word array using spaces as delimiters.  However, punctuations like periods and exclamation marks can create multiple ids for the same word. For example, \"bye\" and \"bye!\" would generate two different word ids.\n",
    "\n",
    "Implement the function `token_lookup` to return a dict that will be used to tokenize symbols like \"!\" into \"||Exclamation_Mark||\".  Create a dictionary for the following symbols where the symbol is the key and value is the token:\n",
    "- Period ( **.** )\n",
    "- Comma ( **,** )\n",
    "- Quotation Mark ( **\"** )\n",
    "- Semicolon ( **;** )\n",
    "- Exclamation mark ( **!** )\n",
    "- Question mark ( **?** )\n",
    "- Left Parentheses ( **(** )\n",
    "- Right Parentheses ( **)** )\n",
    "- Dash ( **-** )\n",
    "- Return ( **\\n** )\n",
    "\n",
    "This dictionary will be used to tokenize the symbols and add the delimiter (space) around it.  This separates each symbols as its own word, making it easier for the neural network to predict the next word. Make sure you don't use a value that could be confused as a word; for example, instead of using the value \"dash\", try using something like \"||dash||\"."
   ]
  },
  {
   "cell_type": "code",
   "execution_count": 5,
   "metadata": {
    "colab": {
     "base_uri": "https://localhost:8080/",
     "height": 34
    },
    "colab_type": "code",
    "id": "0MkCO3oGvMfb",
    "outputId": "ab899a82-8147-407e-9102-9dc39d93cc7d"
   },
   "outputs": [
    {
     "name": "stdout",
     "output_type": "stream",
     "text": [
      "Tests Passed\n"
     ]
    }
   ],
   "source": [
    "def token_lookup():\n",
    "    \"\"\"\n",
    "    Generate a dict to turn punctuation into a token.\n",
    "    :return: Tokenized dictionary where the key is the punctuation and the value is the token\n",
    "    \"\"\"\n",
    "    # TODO: Implement Function\n",
    "    dct = {}\n",
    "    dct['.'] = '||Period||'\n",
    "    dct[','] = '||Comma||'\n",
    "    dct['\"'] = '||Quotation_Mark||'\n",
    "    dct[';'] = '||Semicolon||'\n",
    "    dct['!'] = '||Exclamation_mark||'\n",
    "    dct['?'] = '||Question_mark||'\n",
    "    dct['('] = '||Left_Parantheses||'\n",
    "    dct[')'] = '||Right_Parantheses||' \n",
    "    dct['-'] = '||Dash||'\n",
    "    dct['\\n'] = '||Return||'\n",
    "    return dct\n",
    " \n",
    "\"\"\"\n",
    "DON'T MODIFY ANYTHING IN THIS CELL THAT IS BELOW THIS LINE\n",
    "\"\"\"\n",
    "tests.test_tokenize(token_lookup)"
   ]
  },
  {
   "cell_type": "markdown",
   "metadata": {
    "colab_type": "text",
    "id": "ztDgW2DOvMfe"
   },
   "source": [
    "## Pre-process all the data and save it\n",
    "\n",
    "Running the code cell below will pre-process all the data and save it to file. You're encouraged to look at the code for `preprocess_and_save_data` in the `helpers.py` file to see what it's doing in detail, but you do not need to change this code."
   ]
  },
  {
   "cell_type": "code",
   "execution_count": 6,
   "metadata": {
    "colab": {},
    "colab_type": "code",
    "id": "ussW7NlavMff"
   },
   "outputs": [],
   "source": [
    "\"\"\"\n",
    "DON'T MODIFY ANYTHING IN THIS CELL\n",
    "\"\"\"\n",
    "# pre-process training data\n",
    "helper.preprocess_and_save_data(data_dir, token_lookup, create_lookup_tables)"
   ]
  },
  {
   "cell_type": "markdown",
   "metadata": {
    "colab_type": "text",
    "id": "zRSzRsdRvMfh"
   },
   "source": [
    "# Check Point\n",
    "This is your first checkpoint. If you ever decide to come back to this notebook or have to restart the notebook, you can start from here. The preprocessed data has been saved to disk."
   ]
  },
  {
   "cell_type": "code",
   "execution_count": 7,
   "metadata": {
    "colab": {},
    "colab_type": "code",
    "id": "JaJbUhc4vMfh"
   },
   "outputs": [],
   "source": [
    "\"\"\"\n",
    "DON'T MODIFY ANYTHING IN THIS CELL\n",
    "\"\"\"\n",
    "import helper\n",
    "import problem_unittests as tests\n",
    " \n",
    "int_text, vocab_to_int, int_to_vocab, token_dict = helper.load_preprocess()"
   ]
  },
  {
   "cell_type": "markdown",
   "metadata": {
    "colab_type": "text",
    "id": "V76svjfrvMfj"
   },
   "source": [
    "## Build the Neural Network\n",
    "In this section, you'll build the components necessary to build an RNN by implementing the RNN Module and forward and backpropagation functions.\n",
    "\n",
    "### Check Access to GPU"
   ]
  },
  {
   "cell_type": "code",
   "execution_count": 8,
   "metadata": {
    "colab": {},
    "colab_type": "code",
    "id": "yKQdllVlvMfk"
   },
   "outputs": [],
   "source": [
    "\"\"\"\n",
    "DON'T MODIFY ANYTHING IN THIS CELL\n",
    "\"\"\"\n",
    "import torch\n",
    " \n",
    "# Check for a GPU\n",
    "train_on_gpu = torch.cuda.is_available()\n",
    "if not train_on_gpu:\n",
    "    print('No GPU found. Please use a GPU to train your neural network.')"
   ]
  },
  {
   "cell_type": "markdown",
   "metadata": {
    "colab_type": "text",
    "id": "VSoF6AWhvMfm"
   },
   "source": [
    "## Input\n",
    "Let's start with the preprocessed input data. We'll use [TensorDataset](http://pytorch.org/docs/master/data.html#torch.utils.data.TensorDataset) to provide a known format to our dataset; in combination with [DataLoader](http://pytorch.org/docs/master/data.html#torch.utils.data.DataLoader), it will handle batching, shuffling, and other dataset iteration functions.\n",
    "\n",
    "You can create data with TensorDataset by passing in feature and target tensors. Then create a DataLoader as usual.\n",
    "```\n",
    "data = TensorDataset(feature_tensors, target_tensors)\n",
    "data_loader = torch.utils.data.DataLoader(data, \n",
    "                                          batch_size=batch_size)\n",
    "```\n",
    "\n",
    "### Batching\n",
    "Implement the `batch_data` function to batch `words` data into chunks of size `batch_size` using the `TensorDataset` and `DataLoader` classes.\n",
    "\n",
    ">You can batch words using the DataLoader, but it will be up to you to create `feature_tensors` and `target_tensors` of the correct size and content for a given `sequence_length`.\n",
    "\n",
    "For example, say we have these as input:\n",
    "```\n",
    "words = [1, 2, 3, 4, 5, 6, 7]\n",
    "sequence_length = 4\n",
    "```\n",
    "\n",
    "Your first `feature_tensor` should contain the values:\n",
    "```\n",
    "[1, 2, 3, 4]\n",
    "```\n",
    "And the corresponding `target_tensor` should just be the next \"word\"/tokenized word value:\n",
    "```\n",
    "5\n",
    "```\n",
    "This should continue with the second `feature_tensor`, `target_tensor` being:\n",
    "```\n",
    "[2, 3, 4, 5]  # features\n",
    "6             # target\n",
    "```"
   ]
  },
  {
   "cell_type": "code",
   "execution_count": 9,
   "metadata": {
    "colab": {},
    "colab_type": "code",
    "id": "GT8P39UvvMfn"
   },
   "outputs": [],
   "source": [
    "from torch.utils.data import TensorDataset, DataLoader\n",
    " \n",
    " \n",
    "def batch_data(words, sequence_length, batch_size):\n",
    "    \"\"\"\n",
    "    Batch the neural network data using DataLoader\n",
    "    :param words: The word ids of the TV scripts\n",
    "    :param sequence_length: The sequence length of each batch\n",
    "    :param batch_size: The size of each batch; the number of sequences in a batch\n",
    "    :return: DataLoader with batched data\n",
    "    \"\"\"\n",
    "    # TODO: Implement function\n",
    "    x_vals = []\n",
    "    y_vals = []\n",
    "    for i in range(0, len(words) - sequence_length):\n",
    "        x_vals.append(words[i : i + sequence_length])\n",
    "        y_vals.append(words[i + sequence_length])\n",
    "    x_vals = np.array(x_vals, dtype=np.int)\n",
    "    y_vals = np.array(y_vals, dtype=np.int)\n",
    "    \n",
    "    # Create numpy arrays, then TensorDataset, then DataLoader\n",
    "    data = TensorDataset(torch.from_numpy(x_vals), torch.from_numpy(y_vals))\n",
    "    # return a dataloader\n",
    "    data_loader = DataLoader(data, shuffle=False, batch_size=batch_size)\n",
    "    return data_loader\n",
    " \n",
    "# there is no test for this function, but you are encouraged to create\n",
    "# print statements and tests of your own"
   ]
  },
  {
   "cell_type": "markdown",
   "metadata": {
    "colab_type": "text",
    "id": "ySkuzkV2vMfp"
   },
   "source": [
    "### Test your dataloader \n",
    "\n",
    "You'll have to modify this code to test a batching function, but it should look fairly similar.\n",
    "\n",
    "Below, we're generating some test text data and defining a dataloader using the function you defined, above. Then, we are getting some sample batch of inputs `sample_x` and targets `sample_y` from our dataloader.\n",
    "\n",
    "Your code should return something like the following (likely in a different order, if you shuffled your data):\n",
    "\n",
    "```\n",
    "torch.Size([10, 5])\n",
    "tensor([[ 28,  29,  30,  31,  32],\n",
    "        [ 21,  22,  23,  24,  25],\n",
    "        [ 17,  18,  19,  20,  21],\n",
    "        [ 34,  35,  36,  37,  38],\n",
    "        [ 11,  12,  13,  14,  15],\n",
    "        [ 23,  24,  25,  26,  27],\n",
    "        [  6,   7,   8,   9,  10],\n",
    "        [ 38,  39,  40,  41,  42],\n",
    "        [ 25,  26,  27,  28,  29],\n",
    "        [  7,   8,   9,  10,  11]])\n",
    "\n",
    "torch.Size([10])\n",
    "tensor([ 33,  26,  22,  39,  16,  28,  11,  43,  30,  12])\n",
    "```\n",
    "\n",
    "### Sizes\n",
    "Your sample_x should be of size `(batch_size, sequence_length)` or (10, 5) in this case and sample_y should just have one dimension: batch_size (10). \n",
    "\n",
    "### Values\n",
    "\n",
    "You should also notice that the targets, sample_y, are the *next* value in the ordered test_text data. So, for an input sequence `[ 28,  29,  30,  31,  32]` that ends with the value `32`, the corresponding output should be `33`."
   ]
  },
  {
   "cell_type": "code",
   "execution_count": 10,
   "metadata": {
    "colab": {
     "base_uri": "https://localhost:8080/",
     "height": 255
    },
    "colab_type": "code",
    "id": "w2tGuWNlvMfq",
    "outputId": "5215382c-cc69-4377-dde0-e60e876ff5ff"
   },
   "outputs": [
    {
     "name": "stdout",
     "output_type": "stream",
     "text": [
      "torch.Size([10, 5])\n",
      "tensor([[ 0,  1,  2,  3,  4],\n",
      "        [ 1,  2,  3,  4,  5],\n",
      "        [ 2,  3,  4,  5,  6],\n",
      "        [ 3,  4,  5,  6,  7],\n",
      "        [ 4,  5,  6,  7,  8],\n",
      "        [ 5,  6,  7,  8,  9],\n",
      "        [ 6,  7,  8,  9, 10],\n",
      "        [ 7,  8,  9, 10, 11],\n",
      "        [ 8,  9, 10, 11, 12],\n",
      "        [ 9, 10, 11, 12, 13]])\n",
      "\n",
      "torch.Size([10])\n",
      "tensor([ 5,  6,  7,  8,  9, 10, 11, 12, 13, 14])\n"
     ]
    }
   ],
   "source": [
    "# test dataloader\n",
    " \n",
    "test_text = range(50)\n",
    "t_loader = batch_data(test_text, sequence_length=5, batch_size=10)\n",
    " \n",
    "data_iter = iter(t_loader)\n",
    "sample_x, sample_y = data_iter.next()\n",
    " \n",
    "print(sample_x.shape)\n",
    "print(sample_x)\n",
    "print()\n",
    "print(sample_y.shape)\n",
    "print(sample_y)"
   ]
  },
  {
   "cell_type": "markdown",
   "metadata": {
    "colab_type": "text",
    "id": "B2rAF9LBvMfs"
   },
   "source": [
    "---\n",
    "## Build the Neural Network\n",
    "Implement an RNN using PyTorch's [Module class](http://pytorch.org/docs/master/nn.html#torch.nn.Module). You may choose to use a GRU or an LSTM. To complete the RNN, you'll have to implement the following functions for the class:\n",
    " - `__init__` - The initialize function. \n",
    " - `init_hidden` - The initialization function for an LSTM/GRU hidden state\n",
    " - `forward` - Forward propagation function.\n",
    " \n",
    "The initialize function should create the layers of the neural network and save them to the class. The forward propagation function will use these layers to run forward propagation and generate an output and a hidden state.\n",
    "\n",
    "**The output of this model should be the *last* batch of word scores** after a complete sequence has been processed. That is, for each input sequence of words, we only want to output the word scores for a single, most likely, next word.\n",
    "\n",
    "### Hints\n",
    "\n",
    "1. Make sure to stack the outputs of the lstm to pass to your fully-connected layer, you can do this with `lstm_output = lstm_output.contiguous().view(-1, self.hidden_dim)`\n",
    "2. You can get the last batch of word scores by shaping the output of the final, fully-connected layer like so:\n",
    "\n",
    "```\n",
    "# reshape into (batch_size, seq_length, output_size)\n",
    "output = output.view(batch_size, -1, self.output_size)\n",
    "# get last batch\n",
    "out = output[:, -1]\n",
    "```"
   ]
  },
  {
   "cell_type": "code",
   "execution_count": 23,
   "metadata": {
    "colab": {
     "base_uri": "https://localhost:8080/",
     "height": 34
    },
    "colab_type": "code",
    "id": "mgLyIPz5vMfs",
    "outputId": "86166cb6-5adc-4bfc-8653-b33c6058ab97"
   },
   "outputs": [
    {
     "name": "stdout",
     "output_type": "stream",
     "text": [
      "Tests Passed\n"
     ]
    }
   ],
   "source": [
    "import torch.nn as nn\n",
    " \n",
    "class RNN(nn.Module):\n",
    "    \n",
    "    def __init__(self, vocab_size, output_size, embedding_dim, hidden_dim, n_layers, dropout=0.5):\n",
    "        \"\"\"\n",
    "        Initialize the PyTorch RNN Module\n",
    "        :param vocab_size: The number of input dimensions of the neural network (the size of the vocabulary)\n",
    "        :param output_size: The number of output dimensions of the neural network\n",
    "        :param embedding_dim: The size of embeddings, should you choose to use them        \n",
    "        :param hidden_dim: The size of the hidden layer outputs\n",
    "        :param dropout: dropout to add in between LSTM/GRU layers\n",
    "        \"\"\"\n",
    "        super(RNN, self).__init__()\n",
    "        # TODO: Implement function\n",
    "        \n",
    "        # set class variables\n",
    "        self.vocab_size = vocab_size\n",
    "        self.output_size = output_size\n",
    "        self.embedding_dim = embedding_dim\n",
    "        self.hidden_dim = hidden_dim\n",
    "        self.n_layers = n_layers\n",
    "        self.dropout_prob = dropout\n",
    "        \n",
    "        # define model layers\n",
    "        self.embed = nn.Embedding(vocab_size, embedding_dim)\n",
    "        self.lstm = nn.LSTM(embedding_dim, hidden_dim, n_layers, dropout=dropout, batch_first=True)\n",
    "        #self.dropout = nn.Dropout(dropout)\n",
    "        self.fc = nn.Linear(hidden_dim, output_size)\n",
    "        \n",
    "    \n",
    "    \n",
    "    def forward(self, nn_input, hidden):\n",
    "        \"\"\"\n",
    "        Forward propagation of the neural network\n",
    "        :param nn_input: The input to the neural network\n",
    "        :param hidden: The hidden state        \n",
    "        :return: Two Tensors, the output of the neural network and the latest hidden state\n",
    "        \"\"\"\n",
    "        # TODO: Implement function\n",
    "        # Step #1 - Pipe into embedding layer\n",
    "        # Input size - batch_size x seq_len x vocab_size\n",
    "        # Output size - batch_size x seq_len x embedding_dim\n",
    "        embeds = self.embed(nn_input)\n",
    "        \n",
    "        # Step #2 - Pipe into LSTM\n",
    "        # r_out\n",
    "        # Input size - batch_size x seq_len x embedding_dim\n",
    "        # Output size - batch_size x seq_len x hidden_dim\n",
    "        lstm_output, hidden = self.lstm(embeds, hidden)\n",
    "        \n",
    "        # Step #3 - Apply dropout before FC layer\n",
    "        #output = self.dropout(lstm_output)\n",
    "        \n",
    "        # Step #4 - Now apply FC layer\n",
    "        # Output size: batch_size x seq_len x output_size\n",
    "        output = self.fc(lstm_output)\n",
    "        \n",
    "        # Step #5 - Get the last element of the sequence that\n",
    "        # tells us the distribution of which word should follow\n",
    "        # Size is now batch_size x output_size\n",
    "        out = output[:, -1]\n",
    " \n",
    "        # return one batch of output word scores and the hidden state\n",
    "        return out, hidden\n",
    "    \n",
    "    \n",
    "    def init_hidden(self, batch_size):\n",
    "        '''\n",
    "        Initialize the hidden state of an LSTM/GRU\n",
    "        :param batch_size: The batch_size of the hidden state\n",
    "        :return: hidden state of dims (n_layers, batch_size, hidden_dim)\n",
    "        '''\n",
    "        # Implement function\n",
    "        \n",
    "        # initialize hidden state with zero weights, and move to GPU if available\n",
    "        # Create two new tensors with sizes n_layers x batch_size x hidden_dim,\n",
    "        # initialized to zero, for hidden state and cell state of LSTM\n",
    "        weight = next(self.parameters()).data\n",
    "        \n",
    "        if (train_on_gpu):\n",
    "            hidden = (weight.new(self.n_layers, batch_size, self.hidden_dim).zero_().cuda(),\n",
    "                  weight.new(self.n_layers, batch_size, self.hidden_dim).zero_().cuda())\n",
    "        else:\n",
    "            hidden = (weight.new(self.n_layers, batch_size, self.hidden_dim).zero_(),\n",
    "                      weight.new(self.n_layers, batch_size, self.hidden_dim).zero_())\n",
    "        \n",
    "        return hidden        \n",
    " \n",
    " \n",
    "\"\"\"\n",
    "DON'T MODIFY ANYTHING IN THIS CELL THAT IS BELOW THIS LINE\n",
    "\"\"\"\n",
    "tests.test_rnn(RNN, train_on_gpu)"
   ]
  },
  {
   "cell_type": "markdown",
   "metadata": {
    "colab_type": "text",
    "id": "i_MjMU2PvMfu"
   },
   "source": [
    "### Define forward and backpropagation\n",
    "\n",
    "Use the RNN class you implemented to apply forward and back propagation. This function will be called, iteratively, in the training loop as follows:\n",
    "```\n",
    "loss = forward_back_prop(decoder, decoder_optimizer, criterion, inp, target)\n",
    "```\n",
    "\n",
    "And it should return the average loss over a batch and the hidden state returned by a call to `RNN(inp, hidden)`. Recall that you can get this loss by computing it, as usual, and calling `loss.item()`.\n",
    "\n",
    "**If a GPU is available, you should move your data to that GPU device, here.**"
   ]
  },
  {
   "cell_type": "code",
   "execution_count": 24,
   "metadata": {
    "colab": {
     "base_uri": "https://localhost:8080/",
     "height": 34
    },
    "colab_type": "code",
    "id": "LpNsqbN9vMfu",
    "outputId": "56b829de-89e4-410f-868c-3f387d4c6e71"
   },
   "outputs": [
    {
     "name": "stdout",
     "output_type": "stream",
     "text": [
      "Tests Passed\n"
     ]
    }
   ],
   "source": [
    "def forward_back_prop(rnn, optimizer, criterion, inp, target, hidden):\n",
    "    \"\"\"\n",
    "    Forward and backward propagation on the neural network\n",
    "    :param rnn: The PyTorch Module that holds the neural network\n",
    "    :param optimizer: The PyTorch optimizer for the neural network\n",
    "    :param criterion: The PyTorch loss function\n",
    "    :param inp: A batch of input to the neural network\n",
    "    :param target: The target output for the batch of input\n",
    "    :return: The loss and the latest hidden state Tensor\n",
    "    \"\"\"\n",
    "    \n",
    "    # TODO: Implement Function\n",
    "    \n",
    "    # move data to GPU, if available\n",
    "    if train_on_gpu:\n",
    "        inp, target = inp.cuda(), target.cuda()\n",
    "    \n",
    "    # perform backpropagation and optimization\n",
    " \n",
    "    # Creating new variables for the hidden state, otherwise\n",
    "    # we'd backprop through the entire training history\n",
    "    h = tuple([each.data for each in hidden])\n",
    "    \n",
    "    # Zero accumulated gradients\n",
    "    optimizer.zero_grad()\n",
    "    \n",
    "    # Get the output from the model\n",
    "    output, h = rnn(inp, h)\n",
    " \n",
    "    # Calculate the loss and perform backprop\n",
    "    loss = criterion(output.squeeze(), target)\n",
    "    loss.backward()\n",
    "\n",
    "    # Gradient clipping\n",
    "    nn.utils.clip_grad_norm_(rnn.parameters(), 5)\n",
    "    \n",
    "    # Update the weights\n",
    "    optimizer.step()    \n",
    " \n",
    "    # return the loss over a batch and the hidden state produced by our model\n",
    "    return loss.item(), h\n",
    " \n",
    "# Note that these tests aren't completely extensive.\n",
    "# they are here to act as general checks on the expected outputs of your functions\n",
    "\"\"\"\n",
    "DON'T MODIFY ANYTHING IN THIS CELL THAT IS BELOW THIS LINE\n",
    "\"\"\"\n",
    "tests.test_forward_back_prop(RNN, forward_back_prop, train_on_gpu)"
   ]
  },
  {
   "cell_type": "markdown",
   "metadata": {
    "colab_type": "text",
    "id": "oL8oxlp1vMfw"
   },
   "source": [
    "## Neural Network Training\n",
    "\n",
    "With the structure of the network complete and data ready to be fed in the neural network, it's time to train it.\n",
    "\n",
    "### Train Loop\n",
    "\n",
    "The training loop is implemented for you in the `train_decoder` function. This function will train the network over all the batches for the number of epochs given. The model progress will be shown every number of batches. This number is set with the `show_every_n_batches` parameter. You'll set this parameter along with other parameters in the next section."
   ]
  },
  {
   "cell_type": "code",
   "execution_count": 25,
   "metadata": {
    "colab": {},
    "colab_type": "code",
    "id": "wERQzSvVvMfw"
   },
   "outputs": [],
   "source": [
    "\"\"\"\n",
    "DON'T MODIFY ANYTHING IN THIS CELL\n",
    "\"\"\"\n",
    "def train_rnn(rnn, batch_size, optimizer, criterion, n_epochs, show_every_n_batches=100):\n",
    "    batch_losses = []\n",
    "    \n",
    "    rnn.train()\n",
    " \n",
    "    print(\"Training for %d epoch(s)...\" % n_epochs)\n",
    "    for epoch_i in range(1, n_epochs + 1):\n",
    "        \n",
    "        # initialize hidden state\n",
    "        hidden = rnn.init_hidden(batch_size)\n",
    "        \n",
    "        for batch_i, (inputs, labels) in enumerate(train_loader):\n",
    "            \n",
    "            # make sure you iterate over completely full batches, only\n",
    "            n_batches = len(train_loader.dataset)//batch_size\n",
    "            if(batch_i >= n_batches):\n",
    "                break\n",
    "            \n",
    "            # forward, back prop\n",
    "            loss, hidden = forward_back_prop(rnn, optimizer, criterion, inputs, labels, hidden)          \n",
    "            # record loss\n",
    "            batch_losses.append(loss)\n",
    " \n",
    "            # printing loss stats\n",
    "            if batch_i % show_every_n_batches == 0:\n",
    "                print('Epoch: {:>4}/{:<4}, Batch: {:>4}/{:<4}  Loss: {}'.format(\n",
    "                    epoch_i, n_epochs, batch_i + 1, n_batches, np.average(batch_losses)))\n",
    "                batch_losses = []\n",
    "        print()\n",
    " \n",
    "    # returns a trained rnn\n",
    "    return rnn"
   ]
  },
  {
   "cell_type": "markdown",
   "metadata": {
    "colab_type": "text",
    "id": "9K0SpJgpvMfz"
   },
   "source": [
    "### Hyperparameters\n",
    "\n",
    "Set and train the neural network with the following parameters:\n",
    "- Set `sequence_length` to the length of a sequence.\n",
    "- Set `batch_size` to the batch size.\n",
    "- Set `num_epochs` to the number of epochs to train for.\n",
    "- Set `learning_rate` to the learning rate for an Adam optimizer.\n",
    "- Set `vocab_size` to the number of unique tokens in our vocabulary.\n",
    "- Set `output_size` to the desired size of the output.\n",
    "- Set `embedding_dim` to the embedding dimension; smaller than the vocab_size.\n",
    "- Set `hidden_dim` to the hidden dimension of your RNN.\n",
    "- Set `n_layers` to the number of layers/cells in your RNN.\n",
    "- Set `show_every_n_batches` to the number of batches at which the neural network should print progress.\n",
    "\n",
    "If the network isn't getting the desired results, tweak these parameters and/or the layers in the `RNN` class."
   ]
  },
  {
   "cell_type": "code",
   "execution_count": 27,
   "metadata": {
    "colab": {},
    "colab_type": "code",
    "id": "mkieMTmPvMfz"
   },
   "outputs": [],
   "source": [
    "# Data params\n",
    "# Sequence Length\n",
    "sequence_length = 15 # of words in a sequence\n",
    "# Batch Size\n",
    "batch_size = 256\n",
    " \n",
    "# data loader - do not change\n",
    "train_loader = batch_data(int_text, sequence_length, batch_size)"
   ]
  },
  {
   "cell_type": "code",
   "execution_count": 28,
   "metadata": {
    "colab": {},
    "colab_type": "code",
    "id": "KIvmssdZvMf1"
   },
   "outputs": [],
   "source": [
    "# Training parameters\n",
    "# Number of Epochs\n",
    "num_epochs = 30\n",
    "# Learning Rate\n",
    "learning_rate = 0.001\n",
    " \n",
    "# Model parameters\n",
    "# Vocab size\n",
    "vocab_size = len(vocab_to_int)\n",
    "# Output size\n",
    "output_size = len(vocab_to_int)\n",
    "# Embedding Dimension\n",
    "embedding_dim = 400\n",
    "# Hidden Dimension\n",
    "hidden_dim = 256\n",
    "# Number of RNN Layers\n",
    "n_layers = 2\n",
    " \n",
    "# Show stats for every n number of batches\n",
    "show_every_n_batches = 1000"
   ]
  },
  {
   "cell_type": "markdown",
   "metadata": {
    "colab_type": "text",
    "id": "UKco_btyvMf4"
   },
   "source": [
    "### Train\n",
    "In the next cell, you'll train the neural network on the pre-processed data.  If you have a hard time getting a good loss, you may consider changing your hyperparameters. In general, you may get better results with larger hidden and n_layer dimensions, but larger models take a longer time to train. \n",
    "> **You should aim for a loss less than 3.5.** \n",
    "\n",
    "You should also experiment with different sequence lengths, which determine the size of the long range dependencies that a model can learn."
   ]
  },
  {
   "cell_type": "code",
   "execution_count": 29,
   "metadata": {
    "colab": {
     "base_uri": "https://localhost:8080/",
     "height": 1000
    },
    "colab_type": "code",
    "id": "KBEPMrEFvMf5",
    "outputId": "4d80b31b-34fa-4e11-a33b-9978819f49a6"
   },
   "outputs": [
    {
     "name": "stdout",
     "output_type": "stream",
     "text": [
      "Training for 30 epoch(s)...\n",
      "Epoch:    1/30  , Batch:    1/3484  Loss: 9.978764533996582\n",
      "Epoch:    1/30  , Batch: 1001/3484  Loss: 5.135687723636627\n",
      "Epoch:    1/30  , Batch: 2001/3484  Loss: 4.593910726308823\n",
      "Epoch:    1/30  , Batch: 3001/3484  Loss: 4.411476302862168\n",
      "\n",
      "Epoch:    2/30  , Batch:    1/3484  Loss: 4.4336504497803935\n",
      "Epoch:    2/30  , Batch: 1001/3484  Loss: 4.049389848232269\n",
      "Epoch:    2/30  , Batch: 2001/3484  Loss: 4.027056929349899\n",
      "Epoch:    2/30  , Batch: 3001/3484  Loss: 3.97805117559433\n",
      "\n",
      "Epoch:    3/30  , Batch:    1/3484  Loss: 4.03333074691867\n",
      "Epoch:    3/30  , Batch: 1001/3484  Loss: 3.8097556126117706\n",
      "Epoch:    3/30  , Batch: 2001/3484  Loss: 3.808653860092163\n",
      "Epoch:    3/30  , Batch: 3001/3484  Loss: 3.7619778401851653\n",
      "\n",
      "Epoch:    4/30  , Batch:    1/3484  Loss: 3.8065877468132774\n",
      "Epoch:    4/30  , Batch: 1001/3484  Loss: 3.642167438030243\n",
      "Epoch:    4/30  , Batch: 2001/3484  Loss: 3.65215446972847\n",
      "Epoch:    4/30  , Batch: 3001/3484  Loss: 3.601734679937363\n",
      "\n",
      "Epoch:    5/30  , Batch:    1/3484  Loss: 3.6621861211524522\n",
      "Epoch:    5/30  , Batch: 1001/3484  Loss: 3.523507107973099\n",
      "Epoch:    5/30  , Batch: 2001/3484  Loss: 3.5346855676174163\n",
      "Epoch:    5/30  , Batch: 3001/3484  Loss: 3.507942836523056\n",
      "\n",
      "Epoch:    6/30  , Batch:    1/3484  Loss: 3.5591516598197055\n",
      "Epoch:    6/30  , Batch: 1001/3484  Loss: 3.434005549430847\n",
      "Epoch:    6/30  , Batch: 2001/3484  Loss: 3.4399530718326568\n",
      "Epoch:    6/30  , Batch: 3001/3484  Loss: 3.4162359313964843\n",
      "\n",
      "Epoch:    7/30  , Batch:    1/3484  Loss: 3.4712005173864444\n",
      "Epoch:    7/30  , Batch: 1001/3484  Loss: 3.3638297581672667\n",
      "Epoch:    7/30  , Batch: 2001/3484  Loss: 3.3754737071990966\n",
      "Epoch:    7/30  , Batch: 3001/3484  Loss: 3.3524931461811067\n",
      "\n",
      "Epoch:    8/30  , Batch:    1/3484  Loss: 3.404023546325274\n",
      "Epoch:    8/30  , Batch: 1001/3484  Loss: 3.2977385702133177\n",
      "Epoch:    8/30  , Batch: 2001/3484  Loss: 3.309512685775757\n",
      "Epoch:    8/30  , Batch: 3001/3484  Loss: 3.28505020737648\n",
      "\n",
      "Epoch:    9/30  , Batch:    1/3484  Loss: 3.3314468451767913\n",
      "Epoch:    9/30  , Batch: 1001/3484  Loss: 3.2473483414649964\n",
      "Epoch:    9/30  , Batch: 2001/3484  Loss: 3.2554863033294676\n",
      "Epoch:    9/30  , Batch: 3001/3484  Loss: 3.232657507419586\n",
      "\n",
      "Epoch:   10/30  , Batch:    1/3484  Loss: 3.273393449704509\n",
      "Epoch:   10/30  , Batch: 1001/3484  Loss: 3.20038588142395\n",
      "Epoch:   10/30  , Batch: 2001/3484  Loss: 3.20806103181839\n",
      "Epoch:   10/30  , Batch: 3001/3484  Loss: 3.1883807213306428\n",
      "\n",
      "Epoch:   11/30  , Batch:    1/3484  Loss: 3.2302329377694563\n",
      "Epoch:   11/30  , Batch: 1001/3484  Loss: 3.164063380241394\n",
      "Epoch:   11/30  , Batch: 2001/3484  Loss: 3.171618954181671\n",
      "Epoch:   11/30  , Batch: 3001/3484  Loss: 3.1524178721904756\n",
      "\n",
      "Epoch:   12/30  , Batch:    1/3484  Loss: 3.1891995200440904\n",
      "Epoch:   12/30  , Batch: 1001/3484  Loss: 3.1313049573898315\n",
      "Epoch:   12/30  , Batch: 2001/3484  Loss: 3.1383378913402558\n",
      "Epoch:   12/30  , Batch: 3001/3484  Loss: 3.1145292346477507\n",
      "\n",
      "Epoch:   13/30  , Batch:    1/3484  Loss: 3.154069704457748\n",
      "Epoch:   13/30  , Batch: 1001/3484  Loss: 3.0983334016799926\n",
      "Epoch:   13/30  , Batch: 2001/3484  Loss: 3.1040089445114134\n",
      "Epoch:   13/30  , Batch: 3001/3484  Loss: 3.0842560284137726\n",
      "\n",
      "Epoch:   14/30  , Batch:    1/3484  Loss: 3.118411709454434\n",
      "Epoch:   14/30  , Batch: 1001/3484  Loss: 3.073509236574173\n",
      "Epoch:   14/30  , Batch: 2001/3484  Loss: 3.0756939005851747\n",
      "Epoch:   14/30  , Batch: 3001/3484  Loss: 3.058282548904419\n",
      "\n",
      "Epoch:   15/30  , Batch:    1/3484  Loss: 3.0882680041730897\n",
      "Epoch:   15/30  , Batch: 1001/3484  Loss: 3.047598370552063\n",
      "Epoch:   15/30  , Batch: 2001/3484  Loss: 3.050130980014801\n",
      "Epoch:   15/30  , Batch: 3001/3484  Loss: 3.0314505076408387\n",
      "\n",
      "Epoch:   16/30  , Batch:    1/3484  Loss: 3.063302249455255\n",
      "Epoch:   16/30  , Batch: 1001/3484  Loss: 3.0232405557632447\n",
      "Epoch:   16/30  , Batch: 2001/3484  Loss: 3.025755776166916\n",
      "Epoch:   16/30  , Batch: 3001/3484  Loss: 3.0104297127723694\n",
      "\n",
      "Epoch:   17/30  , Batch:    1/3484  Loss: 3.040726026720252\n",
      "Epoch:   17/30  , Batch: 1001/3484  Loss: 3.001875277519226\n",
      "Epoch:   17/30  , Batch: 2001/3484  Loss: 3.0013416447639467\n",
      "Epoch:   17/30  , Batch: 3001/3484  Loss: 2.9863266041278838\n",
      "\n",
      "Epoch:   18/30  , Batch:    1/3484  Loss: 3.0139707110144873\n",
      "Epoch:   18/30  , Batch: 1001/3484  Loss: 2.987743824481964\n",
      "Epoch:   18/30  , Batch: 2001/3484  Loss: 2.9900662727355956\n",
      "Epoch:   18/30  , Batch: 3001/3484  Loss: 2.9686070687770845\n",
      "\n",
      "Epoch:   19/30  , Batch:    1/3484  Loss: 2.9948218021511046\n",
      "Epoch:   19/30  , Batch: 1001/3484  Loss: 2.967323352098465\n",
      "Epoch:   19/30  , Batch: 2001/3484  Loss: 2.9708182606697084\n",
      "Epoch:   19/30  , Batch: 3001/3484  Loss: 2.949221664905548\n",
      "\n",
      "Epoch:   20/30  , Batch:    1/3484  Loss: 2.9729859188568493\n",
      "Epoch:   20/30  , Batch: 1001/3484  Loss: 2.9467274556159975\n",
      "Epoch:   20/30  , Batch: 2001/3484  Loss: 2.9540463733673095\n",
      "Epoch:   20/30  , Batch: 3001/3484  Loss: 2.934963562965393\n",
      "\n",
      "Epoch:   21/30  , Batch:    1/3484  Loss: 2.961461634182733\n",
      "Epoch:   21/30  , Batch: 1001/3484  Loss: 2.9346873881816866\n",
      "Epoch:   21/30  , Batch: 2001/3484  Loss: 2.9377958283424377\n",
      "Epoch:   21/30  , Batch: 3001/3484  Loss: 2.9149553890228272\n",
      "\n",
      "Epoch:   22/30  , Batch:    1/3484  Loss: 2.942972348248663\n",
      "Epoch:   22/30  , Batch: 1001/3484  Loss: 2.9229486858844758\n",
      "Epoch:   22/30  , Batch: 2001/3484  Loss: 2.9197942357063296\n",
      "Epoch:   22/30  , Batch: 3001/3484  Loss: 2.9005988352298737\n",
      "\n",
      "Epoch:   23/30  , Batch:    1/3484  Loss: 2.9271214638859773\n",
      "Epoch:   23/30  , Batch: 1001/3484  Loss: 2.908047878026962\n",
      "Epoch:   23/30  , Batch: 2001/3484  Loss: 2.910041897535324\n",
      "Epoch:   23/30  , Batch: 3001/3484  Loss: 2.88614039850235\n",
      "\n",
      "Epoch:   24/30  , Batch:    1/3484  Loss: 2.9115599585958747\n",
      "Epoch:   24/30  , Batch: 1001/3484  Loss: 2.8957658417224885\n",
      "Epoch:   24/30  , Batch: 2001/3484  Loss: 2.893941067695618\n",
      "Epoch:   24/30  , Batch: 3001/3484  Loss: 2.8725851929187773\n",
      "\n",
      "Epoch:   25/30  , Batch:    1/3484  Loss: 2.8954528934699444\n",
      "Epoch:   25/30  , Batch: 1001/3484  Loss: 2.8814431490898134\n",
      "Epoch:   25/30  , Batch: 2001/3484  Loss: 2.884661062479019\n",
      "Epoch:   25/30  , Batch: 3001/3484  Loss: 2.8586427209377288\n",
      "\n",
      "Epoch:   26/30  , Batch:    1/3484  Loss: 2.8819228873765175\n",
      "Epoch:   26/30  , Batch: 1001/3484  Loss: 2.8702259979248046\n",
      "Epoch:   26/30  , Batch: 2001/3484  Loss: 2.8735288734436035\n",
      "Epoch:   26/30  , Batch: 3001/3484  Loss: 2.847075778007507\n",
      "\n",
      "Epoch:   27/30  , Batch:    1/3484  Loss: 2.8696998633629036\n",
      "Epoch:   27/30  , Batch: 1001/3484  Loss: 2.8587391374111175\n",
      "Epoch:   27/30  , Batch: 2001/3484  Loss: 2.8596035618782043\n",
      "Epoch:   27/30  , Batch: 3001/3484  Loss: 2.831491227865219\n",
      "\n",
      "Epoch:   28/30  , Batch:    1/3484  Loss: 2.8594621341090556\n",
      "Epoch:   28/30  , Batch: 1001/3484  Loss: 2.8448582911491394\n",
      "Epoch:   28/30  , Batch: 2001/3484  Loss: 2.8510564048290252\n",
      "Epoch:   28/30  , Batch: 3001/3484  Loss: 2.8220187647342683\n",
      "\n",
      "Epoch:   29/30  , Batch:    1/3484  Loss: 2.843804035797592\n",
      "Epoch:   29/30  , Batch: 1001/3484  Loss: 2.8319090933799744\n",
      "Epoch:   29/30  , Batch: 2001/3484  Loss: 2.8439515461921694\n",
      "Epoch:   29/30  , Batch: 3001/3484  Loss: 2.8078371913433076\n",
      "\n",
      "Epoch:   30/30  , Batch:    1/3484  Loss: 2.83879113640667\n",
      "Epoch:   30/30  , Batch: 1001/3484  Loss: 2.821927433490753\n",
      "Epoch:   30/30  , Batch: 2001/3484  Loss: 2.827900238037109\n",
      "Epoch:   30/30  , Batch: 3001/3484  Loss: 2.8022656846046448\n",
      "\n",
      "Model Trained and Saved\n"
     ]
    },
    {
     "name": "stderr",
     "output_type": "stream",
     "text": [
      "/usr/local/lib/python3.6/dist-packages/torch/serialization.py:402: UserWarning: Couldn't retrieve source code for container of type RNN. It won't be checked for correctness upon loading.\n",
      "  \"type \" + obj.__name__ + \". It won't be checked \"\n"
     ]
    }
   ],
   "source": [
    "\"\"\"\n",
    "DON'T MODIFY ANYTHING IN THIS CELL\n",
    "\"\"\"\n",
    " \n",
    "# create model and move to gpu if available\n",
    "rnn = RNN(vocab_size, output_size, embedding_dim, hidden_dim, n_layers, dropout=0.5)\n",
    "if train_on_gpu:\n",
    "    rnn.cuda()\n",
    " \n",
    "# defining loss and optimization functions for training\n",
    "optimizer = torch.optim.Adam(rnn.parameters(), lr=learning_rate)\n",
    "criterion = nn.CrossEntropyLoss()\n",
    " \n",
    "# training the model\n",
    "trained_rnn = train_rnn(rnn, batch_size, optimizer, criterion, num_epochs, show_every_n_batches)\n",
    " \n",
    "# saving the trained model\n",
    "helper.save_model('./save/trained_rnn', trained_rnn)\n",
    "print('Model Trained and Saved')"
   ]
  },
  {
   "cell_type": "markdown",
   "metadata": {
    "colab_type": "text",
    "id": "-HNoHkEvvMf8"
   },
   "source": [
    "### Question: How did you decide on your model hyperparameters? \n",
    "For example, did you try different sequence_lengths and find that one size made the model converge faster? What about your hidden_dim and n_layers; how did you decide on those?"
   ]
  },
  {
   "cell_type": "markdown",
   "metadata": {
    "colab_type": "text",
    "id": "6NE1UrOIvMf8"
   },
   "source": [
    "**Answer:** \n",
    "\n",
    "* I chose a sequence length of 30 because I felt that this was approximately the total number of words per character's line and it seems to have trained faster.\n",
    "* The batch size I set to 256 as this was the largest I could provide so that my network would not exhaust GPU memory and leveraging faster training speeds.  \n",
    "* The number of epochs I chose was 30 mostly due to experimentation and that when I tried 10 epochs, the loss was hovering at around 3.2 so I wanted to make sure it was lower than the 3.5 loss threshold.\n",
    "* The learning rate was set to 0.001 as that is the default learning rate for the Adam optimiser and that seems to work, especially since what I've seen so far in this nanodegree uses that for Adam.\n",
    "* The embedding dimensions I set to 400 as this is what I have seen in previous notebooks in the course and that seems to work.\n",
    "* The hidden dimensions for the LSTM layers I set to 256 as I was trying to balance between generalising better to training time.  I experimented with 512 and showed that the loss didn't improve a lot.\n",
    "* I decided on 2 layers for the LSTM as you need a minimum of 2 layers for the LSTM to use dropout correctly.  Also, an additional layer will hopefully generalise the TV scripts that are generated."
   ]
  },
  {
   "cell_type": "markdown",
   "metadata": {
    "colab_type": "text",
    "id": "p86-6HNnvMf8"
   },
   "source": [
    "---\n",
    "# Checkpoint\n",
    "\n",
    "After running the above training cell, your model will be saved by name, `trained_rnn`, and if you save your notebook progress, **you can pause here and come back to this code at another time**. You can resume your progress by running the next cell, which will load in our word:id dictionaries _and_ load in your saved model by name!"
   ]
  },
  {
   "cell_type": "code",
   "execution_count": 30,
   "metadata": {
    "colab": {},
    "colab_type": "code",
    "id": "1ozKuYZtvMf9"
   },
   "outputs": [],
   "source": [
    "\"\"\"\n",
    "DON'T MODIFY ANYTHING IN THIS CELL\n",
    "\"\"\"\n",
    "import torch\n",
    "import helper\n",
    "import problem_unittests as tests\n",
    "\n",
    "_, vocab_to_int, int_to_vocab, token_dict = helper.load_preprocess()\n",
    "trained_rnn = helper.load_model('./save/trained_rnn')"
   ]
  },
  {
   "cell_type": "markdown",
   "metadata": {
    "colab_type": "text",
    "id": "NAuYjIeRvMf-"
   },
   "source": [
    "## Generate TV Script\n",
    "With the network trained and saved, you'll use it to generate a new, \"fake\" Seinfeld TV script in this section.\n",
    "\n",
    "### Generate Text\n",
    "To generate the text, the network needs to start with a single word and repeat its predictions until it reaches a set length. You'll be using the `generate` function to do this. It takes a word id to start with, `prime_id`, and generates a set length of text, `predict_len`. Also note that it uses topk sampling to introduce some randomness in choosing the most likely next word, given an output set of word scores!"
   ]
  },
  {
   "cell_type": "code",
   "execution_count": 31,
   "metadata": {
    "colab": {},
    "colab_type": "code",
    "id": "JsXbE7c1vMf_"
   },
   "outputs": [],
   "source": [
    "\"\"\"\n",
    "DON'T MODIFY ANYTHING IN THIS CELL THAT IS BELOW THIS LINE\n",
    "\"\"\"\n",
    "import torch.nn.functional as F\n",
    "\n",
    "def generate(rnn, prime_id, int_to_vocab, token_dict, pad_value, predict_len=100):\n",
    "    \"\"\"\n",
    "    Generate text using the neural network\n",
    "    :param decoder: The PyTorch Module that holds the trained neural network\n",
    "    :param prime_id: The word id to start the first prediction\n",
    "    :param int_to_vocab: Dict of word id keys to word values\n",
    "    :param token_dict: Dict of puncuation tokens keys to puncuation values\n",
    "    :param pad_value: The value used to pad a sequence\n",
    "    :param predict_len: The length of text to generate\n",
    "    :return: The generated text\n",
    "    \"\"\"\n",
    "    rnn.eval()\n",
    "    \n",
    "    # create a sequence (batch_size=1) with the prime_id\n",
    "    current_seq = np.full((1, sequence_length), pad_value)\n",
    "    current_seq[-1][-1] = prime_id\n",
    "    predicted = [int_to_vocab[prime_id]]\n",
    "    \n",
    "    for _ in range(predict_len):\n",
    "        if train_on_gpu:\n",
    "            current_seq = torch.LongTensor(current_seq).cuda()\n",
    "        else:\n",
    "            current_seq = torch.LongTensor(current_seq)\n",
    "        \n",
    "        # initialize the hidden state\n",
    "        hidden = rnn.init_hidden(current_seq.size(0))\n",
    "        \n",
    "        # get the output of the rnn\n",
    "        output, _ = rnn(current_seq, hidden)\n",
    "        \n",
    "        # get the next word probabilities\n",
    "        p = F.softmax(output, dim=1).data\n",
    "        if(train_on_gpu):\n",
    "            p = p.cpu() # move to cpu\n",
    "         \n",
    "        # use top_k sampling to get the index of the next word\n",
    "        top_k = 5\n",
    "        p, top_i = p.topk(top_k)\n",
    "        top_i = top_i.numpy().squeeze()\n",
    "        \n",
    "        # select the likely next word index with some element of randomness\n",
    "        p = p.numpy().squeeze()\n",
    "        word_i = np.random.choice(top_i, p=p/p.sum())\n",
    "        \n",
    "        # retrieve that word from the dictionary\n",
    "        word = int_to_vocab[word_i]\n",
    "        predicted.append(word)     \n",
    "        \n",
    "        if(train_on_gpu):\n",
    "            current_seq = current_seq.cpu() # move to cpu\n",
    "        # the generated word becomes the next \"current sequence\" and the cycle can continue\n",
    "        if train_on_gpu:\n",
    "            current_seq = current_seq.cpu()\n",
    "        current_seq = np.roll(current_seq, -1, 1)\n",
    "        current_seq[-1][-1] = word_i\n",
    "    \n",
    "    gen_sentences = ' '.join(predicted)\n",
    "    \n",
    "    # Replace punctuation tokens\n",
    "    for key, token in token_dict.items():\n",
    "        ending = ' ' if key in ['\\n', '(', '\"'] else ''\n",
    "        gen_sentences = gen_sentences.replace(' ' + token.lower(), key)\n",
    "    gen_sentences = gen_sentences.replace('\\n ', '\\n')\n",
    "    gen_sentences = gen_sentences.replace('( ', '(')\n",
    "    \n",
    "    # return all the sentences\n",
    "    return gen_sentences"
   ]
  },
  {
   "cell_type": "markdown",
   "metadata": {
    "colab_type": "text",
    "id": "8s-onhtxvMgA"
   },
   "source": [
    "### Generate a New Script\n",
    "It's time to generate the text. Set `gen_length` to the length of TV script you want to generate and set `prime_word` to one of the following to start the prediction:\n",
    "- \"jerry\"\n",
    "- \"elaine\"\n",
    "- \"george\"\n",
    "- \"kramer\"\n",
    "\n",
    "You can set the prime word to _any word_ in our dictionary, but it's best to start with a name for generating a TV script. (You can also start with any other names you find in the original text file!)"
   ]
  },
  {
   "cell_type": "code",
   "execution_count": 39,
   "metadata": {
    "colab": {
     "base_uri": "https://localhost:8080/",
     "height": 1000
    },
    "colab_type": "code",
    "id": "qtsmeBFLvMgB",
    "outputId": "95205911-f86e-4f06-efd3-b5ee0c566b45"
   },
   "outputs": [
    {
     "name": "stdout",
     "output_type": "stream",
     "text": [
      "kramer: acting acting at six two years, and i challenged them delinquent. and then i challenged them up to her. she said it was a little burning-- nguh nguh nguh-\n",
      "\n",
      "hoyt: what are you doing?\n",
      "\n",
      "george: what are we gonna do?\n",
      "\n",
      "jerry: yes. it's effeminate.\n",
      "\n",
      "george: what are you doing?\n",
      "\n",
      "jerry: yeah.\n",
      "\n",
      "elaine: oh, come on, come on.\n",
      "\n",
      "elaine: so, what's the show?\n",
      "\n",
      "elaine: oh...\n",
      "\n",
      "george:(to jerry) hey.. it's settled kimbrough.\n",
      "\n",
      "jerry: so you can have to get it?\n",
      "\n",
      "jerry: no.\n",
      "\n",
      "hoyt: and i had to go to california.\n",
      "\n",
      "elaine: what about switzerland?\n",
      "\n",
      "jerry: yes.\n",
      "\n",
      "chiles: objection overruled.\n",
      "\n",
      "[new witness: the victim of the latham county penal chanting\n",
      "\n",
      "hoyt: uromycitisis!\n",
      "\n",
      "hoyt: uromycitisis!\n",
      "\n",
      "elaine: so, what do you want?\n",
      "\n",
      "george: i cheated with nbc.\n",
      "\n",
      "elaine: i don't know what it is about.\n",
      "\n",
      "jerry: what is this?!\n",
      "\n",
      "kramer: no, no! no. no. i hate that.\n",
      "\n",
      "jerry: i know.\n",
      "\n",
      "george: you are going to be here.\n",
      "\n",
      "jerry: i know. it's not moops.\n",
      "\n",
      "jerry: i think i can.\n",
      "\n",
      "george: i think we can get together.\n",
      "\n",
      "george: you know, i know how much i was.\n",
      "\n",
      "george: i think it's a good idea about it.\n",
      "\n",
      "hoyt: so you know the defendants?\n",
      "\n",
      "jerry: i don't know.\n",
      "\n",
      "elaine: oh! well, what are you doing?\n",
      "\n",
      "elaine: yeah, but it was a very good idea with this testimony, but i don't want to see that.\n",
      "\n",
      "jerry: what do you mean,\" no no id love to go with him?\n",
      "\n",
      "jerry: no. he said he was a horrible person.\n",
      "\n",
      "george: i had to spell it up at gunpoint.\n",
      "\n",
      "george:\n"
     ]
    }
   ],
   "source": [
    "# run the cell multiple times to get different results!\n",
    "gen_length = 400 # modify the length to your preference\n",
    "#prime_word = 'elaine' # name for starting the script\n",
    "#prime_word = 'jerry'\n",
    "#prime_word = 'george'\n",
    "prime_word = 'kramer'\n",
    "\n",
    "\"\"\"\n",
    "DON'T MODIFY ANYTHING IN THIS CELL THAT IS BELOW THIS LINE\n",
    "\"\"\"\n",
    "pad_word = helper.SPECIAL_WORDS['PADDING']\n",
    "generated_script = generate(trained_rnn, vocab_to_int[prime_word + ':'], int_to_vocab, token_dict, vocab_to_int[pad_word], gen_length)\n",
    "print(generated_script)"
   ]
  },
  {
   "cell_type": "markdown",
   "metadata": {
    "colab_type": "text",
    "id": "FxZGe3P8vMgC"
   },
   "source": [
    "#### Save your favorite scripts\n",
    "\n",
    "Once you have a script that you like (or find interesting), save it to a text file!"
   ]
  },
  {
   "cell_type": "code",
   "execution_count": 40,
   "metadata": {
    "colab": {},
    "colab_type": "code",
    "id": "19rT6LjSvMgD"
   },
   "outputs": [],
   "source": [
    "# save script to a text file\n",
    "#f =  open(\"generated_script_elaine.txt\",\"w\")\n",
    "#f =  open(\"generated_script_jerry.txt\",\"w\")\n",
    "#f =  open(\"generated_script_george.txt\",\"w\")\n",
    "f =  open(\"generated_script_kramer.txt\",\"w\")\n",
    "f.write(generated_script)\n",
    "f.close()"
   ]
  },
  {
   "cell_type": "markdown",
   "metadata": {
    "colab_type": "text",
    "id": "fxVxWG8VvMgE"
   },
   "source": [
    "# The TV Script is Not Perfect\n",
    "It's ok if the TV script doesn't make perfect sense. It should look like alternating lines of dialogue, here is one such example of a few generated lines.\n",
    "\n",
    "### Example generated script\n",
    "\n",
    ">jerry: what about me?\n",
    ">\n",
    ">jerry: i don't have to wait.\n",
    ">\n",
    ">kramer:(to the sales table)\n",
    ">\n",
    ">elaine:(to jerry) hey, look at this, i'm a good doctor.\n",
    ">\n",
    ">newman:(to elaine) you think i have no idea of this...\n",
    ">\n",
    ">elaine: oh, you better take the phone, and he was a little nervous.\n",
    ">\n",
    ">kramer:(to the phone) hey, hey, jerry, i don't want to be a little bit.(to kramer and jerry) you can't.\n",
    ">\n",
    ">jerry: oh, yeah. i don't even know, i know.\n",
    ">\n",
    ">jerry:(to the phone) oh, i know.\n",
    ">\n",
    ">kramer:(laughing) you know...(to jerry) you don't know.\n",
    "\n",
    "You can see that there are multiple characters that say (somewhat) complete sentences, but it doesn't have to be perfect! It takes quite a while to get good results, and often, you'll have to use a smaller vocabulary (and discard uncommon words), or get more data.  The Seinfeld dataset is about 3.4 MB, which is big enough for our purposes; for script generation you'll want more than 1 MB of text, generally. \n",
    "\n",
    "# Submitting This Project\n",
    "When submitting this project, make sure to run all the cells before saving the notebook. Save the notebook file as \"dlnd_tv_script_generation.ipynb\" and save another copy as an HTML file by clicking \"File\" -> \"Download as..\"->\"html\". Include the \"helper.py\" and \"problem_unittests.py\" files in your submission. Once you download these files, compress them into one zip file for submission."
   ]
  },
  {
   "cell_type": "code",
   "execution_count": null,
   "metadata": {
    "colab": {},
    "colab_type": "code",
    "id": "FKSAH4XJCst6"
   },
   "outputs": [],
   "source": []
  }
 ],
 "metadata": {
  "accelerator": "GPU",
  "colab": {
   "collapsed_sections": [],
   "name": "dlnd_tv_script_generation.ipynb",
   "provenance": [],
   "toc_visible": true
  },
  "kernelspec": {
   "display_name": "Python 3",
   "language": "python",
   "name": "python3"
  },
  "language_info": {
   "codemirror_mode": {
    "name": "ipython",
    "version": 3
   },
   "file_extension": ".py",
   "mimetype": "text/x-python",
   "name": "python",
   "nbconvert_exporter": "python",
   "pygments_lexer": "ipython3",
   "version": "3.7.6"
  }
 },
 "nbformat": 4,
 "nbformat_minor": 1
}
